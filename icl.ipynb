{
  "cells": [
    {
      "cell_type": "code",
      "execution_count": null,
      "metadata": {
        "colab": {
          "base_uri": "https://localhost:8080/"
        },
        "id": "15rvmVnpIcyx",
        "outputId": "e0e7bbb1-7877-4e97-bfbe-09faf3918e86"
      },
      "outputs": [],
      "source": [
        "from transformers import AutoModelForCausalLM, AutoTokenizer\n",
        "from datasets import load_dataset\n",
        "from trl import SFTConfig, SFTTrainer\n",
        "from peft import LoraConfig, get_peft_model\n",
        "import json\n",
        "import random\n",
        "import torch\n",
        "import numpy as np\n",
        "\n",
        "model = AutoModelForCausalLM.from_pretrained(\"gpt2-large\").to(\"cuda\")\n",
        "tokenizer = AutoTokenizer.from_pretrained(\"gpt2-large\")\n",
        "if tokenizer.pad_token is None:\n",
        "    tokenizer.pad_token = tokenizer.eos_token"
      ]
    },
    {
      "cell_type": "code",
      "execution_count": null,
      "metadata": {
        "id": "r5IUlvhcIcyy"
      },
      "outputs": [],
      "source": [
        "train_list = [\n",
        "    \"college_biology\",\n",
        "    \"high_school_biology\",\n",
        "    \"college_computer_science\",\n",
        "    \"high_school_computer_science\",\n",
        "    \"high_school_us_history\",\n",
        "    \"computer_security\",\n",
        "    \"machine_learning\",\n",
        "    \"global_facts\"\n",
        "]\n",
        "\n",
        "subject_list = [\n",
        "    \"college_biology\",\n",
        "    \"high_school_biology\",\n",
        "    \"college_computer_science\",\n",
        "    \"high_school_computer_science\",\n",
        "    \"high_school_us_history\",\n",
        "    \"computer_security\",\n",
        "    \"machine_learning\",\n",
        "    \"global_facts\"\n",
        "]"
      ]
    },
    {
      "cell_type": "code",
      "execution_count": null,
      "metadata": {
        "id": "NY0V08fpIcyy"
      },
      "outputs": [],
      "source": [
        "def formatting_prompts_func(example, subject):\n",
        "  output_texts = []\n",
        "  for i in range(len(example['question'])):\n",
        "    text = f\"{example['question'][i]}\\n(A) {example['choices'][i][0]} (B) {example['choices'][i][1]} (C) {example['choices'][i][2]} (D) {example['choices'][i][3]}\\nAnswer: {chr(65 + example['answer'][i])}\"\n",
        "    output_texts.append(text)\n",
        "  return output_texts\n",
        "\n",
        "def formatting_prompts_func_without_answers(example, subject):\n",
        "  output_texts = []\n",
        "  for i in range(len(example['question'])):\n",
        "    text = f\"{example['question'][i]}\\n(A) {example['choices'][i][0]} (B) {example['choices'][i][1]} (C) {example['choices'][i][2]} (D) {example['choices'][i][3]}\\nAnswer:\"\n",
        "    output_texts.append(text)\n",
        "  return output_texts\n",
        "\n",
        "# used to generate few-shot prompts\n",
        "def formatting_few_shots_prompts_func(few_shot_exemplars, test_dataset, test_subject):\n",
        "  subject = test_subject.replace(\"_\", \" \")\n",
        "  few_shot_exemplars_prompt = f\"The following are multiple choice questions (with answers) about {subject}.\\n\\n\" + '\\n\\n'.join(few_shot_exemplars)\n",
        "  return [few_shot_exemplars_prompt + \"\\n\\n\" + prompt for prompt in test_dataset]\n"
      ]
    },
    {
      "cell_type": "code",
      "execution_count": null,
      "metadata": {
        "id": "WeIAb8yxIcyy"
      },
      "outputs": [],
      "source": [
        "def extract_answer(text):\n",
        "    lines = text.split('\\n')\n",
        "    for line in lines[::-1]:\n",
        "        if line.startswith(\"Answer\"):\n",
        "            return line.split(\": \")[1]"
      ]
    },
    {
      "cell_type": "code",
      "execution_count": null,
      "metadata": {
        "colab": {
          "base_uri": "https://localhost:8080/"
        },
        "id": "HIerzRprIcyy",
        "outputId": "1a1db607-0525-4f80-984e-113f38c6bb28"
      },
      "outputs": [],
      "source": [
        "for train_subject in train_list: # for each source task\n",
        "  res = {}\n",
        "  train_dataset = load_dataset(\"cais/mmlu\", train_subject, split=\"test\")\n",
        "  train_dataset_formatted = formatting_prompts_func(train_dataset, train_subject)\n",
        "  few_shot_exemplars = random.sample(train_dataset_formatted, 5) # default is 5-shot\n",
        "  for target_task in subject_list:\n",
        "    print(\"\\ncurrent source task is\", train_subject, \"target task is\", target_task)\n",
        "    test_dataset = load_dataset(\"cais/mmlu\", target_task, split=\"test\")\n",
        "    test_dataset_formatted, test_dataset_ground_truths = formatting_prompts_func_without_answers(test_dataset, target_task), formatting_prompts_func(test_dataset, target_task)\n",
        "\n",
        "    # form test dataset with few-shot exemplars\n",
        "    test_dataset_formatted_few_shot_list = []\n",
        "    for i in range(1,6):\n",
        "      test_dataset_formatted_few_shot_list.append(formatting_few_shots_prompts_func(few_shot_exemplars[:i], test_dataset_formatted, target_task)) # 1-5 shot to avoid exceeding max token length (1024)\n",
        "    print(\"5-shot prompt example:\", test_dataset_formatted_few_shot_list[-1][0])\n",
        "\n",
        "    # select the few-shot prompt and start the evaluation on target task\n",
        "    correct, total = 0, 0\n",
        "    for i in range(len(test_dataset_formatted_few_shot_list[-1])): # default is 5-shot\n",
        "      k = 1 # -k = -1 => test_dataset_formatted_few_shot_list[-1] = 5-shot\n",
        "      while(tokenizer.encode(test_dataset_formatted_few_shot_list[5-k][i], return_tensors=\"pt\").shape[1] > 1024): # input token length might exceed max sequence length of GPT2-large (1024), try less exemplars\n",
        "        k += 1 # trying (6-k) shot prompt\n",
        "        print(\"trying\", 6-k, \"shot prompt\")\n",
        "      inputs = tokenizer.encode(test_dataset_formatted_few_shot_list[5-k][i], return_tensors=\"pt\").to(\"cuda\") # now input token length < 1024\n",
        "\n",
        "      generate_kwargs = dict(\n",
        "          input_ids=inputs,\n",
        "          temperature=0.9,\n",
        "          top_k=50,\n",
        "          max_new_tokens=1,\n",
        "          repetition_penalty=1\n",
        "      )\n",
        "      outputs = model.generate(**generate_kwargs)\n",
        "      prediction = tokenizer.decode(outputs[0])\n",
        "      print(extract_answer(prediction), extract_answer(test_dataset_ground_truths[i]))\n",
        "      if extract_answer(prediction) == extract_answer(test_dataset_ground_truths[i]):\n",
        "        correct += 1\n",
        "      total += 1\n",
        "    print(\"current few-shot test accuracy on target task =\", correct / total)\n",
        "    res[target_task] = correct / total\n",
        "  with open(\"ICL_few_shots_\" + train_subject + \".json\", \"w\") as outfile:\n",
        "    json.dump(res, outfile)"
      ]
    }
  ],
  "metadata": {
    "accelerator": "GPU",
    "colab": {
      "gpuType": "T4",
      "machine_shape": "hm",
      "provenance": []
    },
    "kernelspec": {
      "display_name": "Python 3",
      "name": "python3"
    },
    "language_info": {
      "codemirror_mode": {
        "name": "ipython",
        "version": 3
      },
      "file_extension": ".py",
      "mimetype": "text/x-python",
      "name": "python",
      "nbconvert_exporter": "python",
      "pygments_lexer": "ipython3",
      "version": "3.11.9"
    }
  },
  "nbformat": 4,
  "nbformat_minor": 0
}
